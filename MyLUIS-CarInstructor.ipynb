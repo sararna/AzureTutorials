{
  "cells": [
    {
      "metadata": {
        "trusted": true
      },
      "cell_type": "code",
      "source": "luisendpoint = 'https://westus.api.cognitive.microsoft.com/luis/prediction/v3.0/apps/389ed777-e1c1-46a7-a3ee-7a354050e2c5/slots/production/predict?subscription-key=e52e6419141249529df53e5c873c297d&verbose=true&show-all-intents=true&log=true&query='",
      "execution_count": 1,
      "outputs": []
    },
    {
      "metadata": {
        "trusted": true
      },
      "cell_type": "code",
      "source": "import json\nimport requests\n\ninstruct = input('Provide the LUIS instruction: \\n')\n\nluisurl = luisendpoint + instruct.replace(\" \", \"+\")\n\nluisresponse = requests.get(luisurl)\nluisjson = luisresponse.content.decode('UTF-8')\ndata = json.loads(luisjson)\n#print(data)\nintent = data['prediction']['topIntent']\n\nif(intent == \"closedoor\"):\n    print(\"App is instructing to close the car door\")\nelif(intent == \"opendoor\"):\n    print(\"App is instructing to open the car door\")\nelif(intent == \"lightsoff\"):\n    print(\"App is instructing to turn off the headlight\")\nelif(intent == \"lightson\"):\n    print(\"App is instructing to turn on the headlight\")\nelse:\n    print(\"App didn't understand your instruction\")",
      "execution_count": 6,
      "outputs": [
        {
          "output_type": "stream",
          "name": "stdout",
          "text": "Provide the LUIS instruction: \nunlock the door\nApp is instructing to open the car door\n"
        }
      ]
    },
    {
      "metadata": {
        "trusted": true
      },
      "cell_type": "code",
      "source": "",
      "execution_count": null,
      "outputs": []
    }
  ],
  "metadata": {
    "kernelspec": {
      "name": "python36",
      "display_name": "Python 3.6",
      "language": "python"
    },
    "language_info": {
      "mimetype": "text/x-python",
      "nbconvert_exporter": "python",
      "name": "python",
      "pygments_lexer": "ipython3",
      "version": "3.6.6",
      "file_extension": ".py",
      "codemirror_mode": {
        "version": 3,
        "name": "ipython"
      }
    }
  },
  "nbformat": 4,
  "nbformat_minor": 2
}