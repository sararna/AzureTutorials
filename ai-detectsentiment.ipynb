{
  "cells": [
    {
      "metadata": {
        "trusted": true
      },
      "cell_type": "code",
      "source": "sentimenthost = 'centralindia.api.cognitive.microsoft.com'\nsentimentkey = '62719e98429f4a71a60b2708715621e7'",
      "execution_count": 5,
      "outputs": []
    },
    {
      "metadata": {
        "trusted": true
      },
      "cell_type": "code",
      "source": "import urllib.parse, http.client, urllib.request, json, urllib.error\n\nheaders = {\n    'Content-Type' : 'application/json',\n    'Ocp-Apim-Subscription-Key' : sentimentkey,\n    'Accept' : 'application/json'\n}\nbody = {\n    'documents' : [\n        {\n            'language' : 'en',\n            'id' : '1',\n            'text' : 'I hate drinking coffee'\n        },\n        {\n            'language' : 'fr',\n            'id' : '2',\n            'text' : \"j'aime voyager et explorer de nouvelles chose\"\n        } \n    ]\n}\nparams = urllib.parse.urlencode({})\n\ntry:\n    sentimentconnection = http.client.HTTPSConnection(sentimenthost)\n    sentimentconnection.request(\"POST\", \"/text/analytics/v2.1/sentiment%s\" % params, str(body), headers)\n    sentimentresponse = sentimentconnection.getresponse()\n    sentimentdata = json.loads(sentimentresponse.read().decode(\"UTF-8\"))\n    print(sentimentdata)\n    for result in sentimentdata['documents']:\n        prediction = \"negative\"\n        if result['score'] > 0.5:\n            prediction = \"positive\"          \n        print('Result of document ' + result['id'] + ' is ' + prediction + ' with a score ' + str(result['score']))\n    sentimentconnection.close()\n\nexcept Exception as e:\n    print('Error ' + e.strerror)",
      "execution_count": 7,
      "outputs": [
        {
          "output_type": "stream",
          "text": "{'documents': [{'id': '1', 'score': 0.016178399324417114}, {'id': '2', 'score': 0.577827513217926}], 'errors': []}\nResult of document 1 is negative with a score 0.016178399324417114\nResult of document 2 is positive with a score 0.577827513217926\n",
          "name": "stdout"
        }
      ]
    },
    {
      "metadata": {
        "trusted": true
      },
      "cell_type": "code",
      "source": "",
      "execution_count": null,
      "outputs": []
    }
  ],
  "metadata": {
    "kernelspec": {
      "name": "python36",
      "display_name": "Python 3.6",
      "language": "python"
    },
    "language_info": {
      "mimetype": "text/x-python",
      "nbconvert_exporter": "python",
      "name": "python",
      "pygments_lexer": "ipython3",
      "version": "3.6.6",
      "file_extension": ".py",
      "codemirror_mode": {
        "version": 3,
        "name": "ipython"
      }
    }
  },
  "nbformat": 4,
  "nbformat_minor": 2
}