{
  "cells": [
    {
      "metadata": {
        "trusted": true
      },
      "cell_type": "code",
      "source": "entitieshost = 'centralindia.api.cognitive.microsoft.com'\nentitieskey = '62719e98429f4a71a60b2708715621e7'",
      "execution_count": 1,
      "outputs": []
    },
    {
      "metadata": {
        "trusted": true
      },
      "cell_type": "code",
      "source": "import urllib.parse, http.client, urllib.request, json\nheaders = {\n    'Content-Type' : 'application/json',\n    'Ocp-Apim-Subscription-Key' : entitieskey,\n    'Accept' : 'application/json'\n}\nbody = {\n    'documents': [\n    {\n      \"language\": \"en\",\n      \"id\": \"1\",\n      \"text\": \"I own a Mercedes Benz car\"\n    },\n    {\n      \"language\": \"en\",\n      \"id\": \"2\",\n      \"text\": \"Tom Brady spent the first 20 seasons of his career with the New England Patriots, playing in nine Super Bowls and \"\n        \"winning six of them, the most of any player in NFL history\"\n    } \n    ]\n}\nparams = urllib.parse.urlencode({})\n\ntry:\n    entitiesconnection = http.client.HTTPSConnection(entitieshost)\n    entitiesconnection.request(\"POST\", \"/text/analytics/v2.1/entities%s\" % params, str(body), headers)\n    entitiesresponse = entitiesconnection.getresponse()\n    entitiesdata = json.loads(entitiesresponse.read().decode(\"UTF-8\"))\n    print(entitiesdata)\n    for rowid in entitiesdata['documents']:\n        print('entities of document ' + rowid['id'])\n        for entities in rowid['entities']:\n            print(entities['name'])\n            for text in entities:\n                if(text == 'wikipediaUrl'):\n                    print('Wikipedia URL of the entity: ' + entities['wikipediaUrl'])\n                if(text == 'bingId'):\n                    print('Bing search ID of the entity: ' + entities['bingId'])  \n            print('--------')\n        print('.................................')\n    entitiesconnection.close()\n\nexcept Exception as e:\n    print(e.strerror)",
      "execution_count": 5,
      "outputs": [
        {
          "output_type": "stream",
          "text": "{'documents': [{'id': '1', 'entities': [{'name': 'Mercedes-Benz', 'matches': [{'wikipediaScore': 0.11415776567775104, 'entityTypeScore': 0.9998245239257812, 'text': 'Mercedes Benz', 'offset': 8, 'length': 13}], 'wikipediaLanguage': 'en', 'wikipediaId': 'Mercedes-Benz', 'wikipediaUrl': 'https://en.wikipedia.org/wiki/Mercedes-Benz', 'bingId': 'b6759e8a-2c0f-9128-0adb-4afa14151916', 'type': 'Organization'}]}, {'id': '2', 'entities': [{'name': 'Tom Brady', 'matches': [{'wikipediaScore': 0.9058492740333255, 'entityTypeScore': 0.999969482421875, 'text': 'Tom Brady', 'offset': 0, 'length': 9}], 'wikipediaLanguage': 'en', 'wikipediaId': 'Tom Brady', 'wikipediaUrl': 'https://en.wikipedia.org/wiki/Tom_Brady', 'bingId': '225835fe-facd-1623-61a8-5f351005181d', 'type': 'Person'}, {'name': 'first', 'matches': [{'entityTypeScore': 0.8, 'text': 'first', 'offset': 20, 'length': 5}], 'type': 'Quantity', 'subType': 'Ordinal'}, {'name': '20', 'matches': [{'entityTypeScore': 0.8, 'text': '20', 'offset': 26, 'length': 2}], 'type': 'Quantity', 'subType': 'Number'}, {'name': 'New England Patriots', 'matches': [{'wikipediaScore': 0.398983249715549, 'entityTypeScore': 0.8, 'text': 'the New England Patriots', 'offset': 56, 'length': 24}], 'wikipediaLanguage': 'en', 'wikipediaId': 'New England Patriots', 'wikipediaUrl': 'https://en.wikipedia.org/wiki/New_England_Patriots', 'bingId': '69995e9c-2a89-f5c8-e1c3-3a62cce0061d', 'type': 'Organization'}, {'name': 'New England', 'matches': [{'entityTypeScore': 0.7842940092086792, 'text': 'New England', 'offset': 60, 'length': 11}], 'type': 'Location'}, {'name': 'nine', 'matches': [{'entityTypeScore': 0.8, 'text': 'nine', 'offset': 93, 'length': 4}], 'type': 'Quantity', 'subType': 'Number'}, {'name': 'Super Bowl', 'matches': [{'wikipediaScore': 0.8988630156566975, 'entityTypeScore': 0.8, 'text': 'Super Bowls', 'offset': 98, 'length': 11}], 'wikipediaLanguage': 'en', 'wikipediaId': 'Super Bowl', 'wikipediaUrl': 'https://en.wikipedia.org/wiki/Super_Bowl', 'bingId': 'ce1fece8-34c4-6249-a1aa-2e779294760e', 'type': 'Other'}, {'name': 'six', 'matches': [{'entityTypeScore': 0.8, 'text': 'six', 'offset': 122, 'length': 3}], 'type': 'Quantity', 'subType': 'Number'}, {'name': 'National Football League', 'matches': [{'wikipediaScore': 0.1604998161231843, 'entityTypeScore': 0.999755859375, 'text': 'NFL', 'offset': 161, 'length': 3}], 'wikipediaLanguage': 'en', 'wikipediaId': 'National Football League', 'wikipediaUrl': 'https://en.wikipedia.org/wiki/National_Football_League', 'bingId': '6ff32734-2ab0-2636-a1b0-1e2f5e94a701', 'type': 'Organization'}]}], 'errors': []}\nentities of document 1\nMercedes-Benz\nWikipedia URL of the entity: https://en.wikipedia.org/wiki/Mercedes-Benz\nBing search ID of the entity: b6759e8a-2c0f-9128-0adb-4afa14151916\n--------\n.................................\nentities of document 2\nTom Brady\nWikipedia URL of the entity: https://en.wikipedia.org/wiki/Tom_Brady\nBing search ID of the entity: 225835fe-facd-1623-61a8-5f351005181d\n--------\nfirst\n--------\n20\n--------\nNew England Patriots\nWikipedia URL of the entity: https://en.wikipedia.org/wiki/New_England_Patriots\nBing search ID of the entity: 69995e9c-2a89-f5c8-e1c3-3a62cce0061d\n--------\nNew England\n--------\nnine\n--------\nSuper Bowl\nWikipedia URL of the entity: https://en.wikipedia.org/wiki/Super_Bowl\nBing search ID of the entity: ce1fece8-34c4-6249-a1aa-2e779294760e\n--------\nsix\n--------\nNational Football League\nWikipedia URL of the entity: https://en.wikipedia.org/wiki/National_Football_League\nBing search ID of the entity: 6ff32734-2ab0-2636-a1b0-1e2f5e94a701\n--------\n.................................\n",
          "name": "stdout"
        }
      ]
    },
    {
      "metadata": {
        "trusted": true
      },
      "cell_type": "code",
      "source": "",
      "execution_count": null,
      "outputs": []
    }
  ],
  "metadata": {
    "kernelspec": {
      "name": "python36",
      "display_name": "Python 3.6",
      "language": "python"
    },
    "language_info": {
      "mimetype": "text/x-python",
      "nbconvert_exporter": "python",
      "name": "python",
      "pygments_lexer": "ipython3",
      "version": "3.6.6",
      "file_extension": ".py",
      "codemirror_mode": {
        "version": 3,
        "name": "ipython"
      }
    }
  },
  "nbformat": 4,
  "nbformat_minor": 2
}