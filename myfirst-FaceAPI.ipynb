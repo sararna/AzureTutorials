{
  "cells": [
    {
      "metadata": {
        "trusted": true
      },
      "cell_type": "code",
      "source": "face_url = \"centralindia.cognitiveservices.azure.com\"\nface_key = \"5d16a60a502840af8425701f46456ecd\"",
      "execution_count": 1,
      "outputs": []
    },
    {
      "metadata": {
        "trusted": true
      },
      "cell_type": "code",
      "source": "import json\nimport urllib.parse \nimport http.client \n\npersongroup_headers = {\n    'Ocp-Apim-Subscription-Key':face_key,\n    'Content-Type':'application/json'\n}\npersongroup_body = {\n    'name':'FriendsList'\n}\npersongroup_id = \"neighbours\"\ntry:\n    pgconn = http.client.HTTPSConnection(face_url)\n    pgconn.request('PUT', '/face/v1.0/persongroups/%s' % persongroup_id, str(persongroup_body), persongroup_headers)\n    response = pgconn.getresponse()\n    print(response.read())\n    pgconn.close()\nexcept Exception as e:\n    print(e)",
      "execution_count": 5,
      "outputs": [
        {
          "output_type": "stream",
          "text": "b'{\"error\":{\"code\":\"PersonGroupExists\",\"message\":\"Person group \\'neighbours\\' already exists.\"}}'\n",
          "name": "stdout"
        }
      ]
    },
    {
      "metadata": {
        "trusted": true
      },
      "cell_type": "code",
      "source": "person_body = {\n    'name':'Jordan'\n}\n\nperson_url = '/face/v1.0/persongroups/'+persongroup_id+'/persons'\n\ntry:\n    pconn = http.client.HTTPSConnection(face_url)\n    pconn.request('POST', person_url, str(person_body), persongroup_headers)\n    response = pconn.getresponse()\n    data = json.loads(response.read())\n    personid=data[\"personId\"]\n    print(personid)\n    pconn.close()\nexcept Exception as e:\n    print(e)",
      "execution_count": 8,
      "outputs": [
        {
          "output_type": "stream",
          "text": "2ab2f399-27c4-47db-9fd6-3df5041fce61\n",
          "name": "stdout"
        }
      ]
    },
    {
      "metadata": {
        "trusted": true
      },
      "cell_type": "code",
      "source": "myneighbourlist = [\"http://media1.s-nbcnews.com/i/newscms/2014_19/425336/140507-jordan-0419_9c7ff3cf5b7db48241b72793c341e64a.jpg\",\n                \"https://ladyinthemancave.files.wordpress.com/2014/07/cave33.jpg\",\n                \"https://cdn-s3.si.com/s3fs-public/images/1997-Michael-Jordan-05717484.jpg\",\n                \"https://statics.sportskeeda.com/editor/2018/03/a4a7b-1520474015-800.jpg\",\n                \"https://thefederalist.com/wp-content/uploads/2016/07/chi-michael-jordan-photos-008.jpeg\",\n                \"https://servingjoy.com/wp-content/uploads/2015/01/American-basketball-legend-Michael-Jordan-at-a-Special-Dinner-hosted-by-him-at-the-Roundhouse-in-October-2006.jpg\"]\n\nface_endpoint = '/face/v1.0/persongroups/'+persongroup_id+'/persons/'+personid+'/persistedFaces' \n\nfor image in myneighbourlist:\n    face_body = {\n        'url' : image\n    }\n    try:\n        fconn = http.client.HTTPSConnection(face_url)\n        fconn.request('POST', face_endpoint, str(face_body), persongroup_headers)\n        response = fconn.getresponse()\n        data = json.loads(response.read())\n        faceid=data[\"persistedFaceId\"]\n        print(faceid)\n        fconn.close()\n    except Exception as e:\n        print(e)",
      "execution_count": 13,
      "outputs": [
        {
          "output_type": "stream",
          "text": "1d8e4035-3ff6-49c3-aa37-aa24e1fe1789\naca48a6a-fdd4-47c6-9e4b-55603caddf63\n8cd010f5-18ce-4851-acb1-e8e32ac92e51\nf06835a8-18c5-4283-9531-f8339a4f936a\n091c112b-83df-4b8d-bbd3-7fca191e5946\n72655963-d16e-403d-afae-d0fd0ed7be32\n",
          "name": "stdout"
        }
      ]
    },
    {
      "metadata": {
        "trusted": true
      },
      "cell_type": "code",
      "source": "train_faceendpoint = '/face/v1.0/persongroups/'+persongroup_id+'/train'\n\ntry:\n    tconn = http.client.HTTPSConnection(face_url)\n    tconn.request('POST', train_faceendpoint, '', persongroup_headers)\n    response = tconn.getresponse()\n    data = response.read()\n    print(data)\n    tconn.close()\nexcept Exception as e:\n    print(e)",
      "execution_count": 14,
      "outputs": [
        {
          "output_type": "stream",
          "text": "b''\n",
          "name": "stdout"
        }
      ]
    },
    {
      "metadata": {
        "trusted": true
      },
      "cell_type": "code",
      "source": "detect_body = {\n    'url':'http://media.gq.com/photos/57a235c218941d5256600e00/16:9/pass/michael-jordan-camp.jpg'\n}\ndetect_params = urllib.parse.urlencode({\n    'returnFaceId':True\n})\n\ndetect_endpoint = '/face/v1.0/detect?%s'\n\ntry:\n    dconn = http.client.HTTPSConnection(face_url)\n    dconn.request('POST', detect_endpoint % detect_params,str(detect_body), persongroup_headers)\n    response = dconn.getresponse()\n    data = json.loads(response.read())\n    detect_faceid = data[0]['faceId']\n    print(detect_faceid)\n    dconn.close()\nexcept Exception as ex:\n    print(ex)",
      "execution_count": 49,
      "outputs": [
        {
          "output_type": "stream",
          "text": "dcfa2a6b-d41a-420f-b72f-b5dd2469d7a8\n",
          "name": "stdout"
        }
      ]
    },
    {
      "metadata": {
        "trusted": true
      },
      "cell_type": "code",
      "source": "identify_body = {\n    'faceIds':[detect_faceid],\n    'personGroupId':persongroup_id\n}\n\nidentify_endpoint = '/face/v1.0/identify'\n\ntry:\n    iconn = http.client.HTTPSConnection(face_url)\n    iconn.request('POST', identify_endpoint, str(identify_body), persongroup_headers)\n    response = iconn.getresponse()\n    data = json.loads(response.read())\n    identifiedcandidate=data[0][\"candidates\"]\n    if identifiedcandidate == []:\n        print(\"The person is not matching with your neighbours list\")\n    elif identifiedcandidate[0][\"confidence\"] > 0.5:\n        identifiedperson = identifiedcandidate[0][\"personId\"]\n        print(identifiedperson)\n    iconn.close()\nexcept Exception as ex:\n    print(ex)",
      "execution_count": 50,
      "outputs": [
        {
          "output_type": "stream",
          "text": "2ab2f399-27c4-47db-9fd6-3df5041fce61\n",
          "name": "stdout"
        }
      ]
    },
    {
      "metadata": {
        "trusted": true
      },
      "cell_type": "code",
      "source": "getname_endpoint = '/face/v1.0/persongroups/'+persongroup_id+'/persons/'+identifiedperson\n\ntry:\n    getconn = http.client.HTTPSConnection(face_url)\n    getconn.request('GET', getname_endpoint, '', persongroup_headers)\n    response = getconn.getresponse()\n    data = json.loads(response.read())    \n    print(\"The identified person is \"+str(data[\"name\"]))\n    getconn.close()\nexcept Exception as e:\n    print(e)",
      "execution_count": 41,
      "outputs": [
        {
          "output_type": "stream",
          "text": "The identified person is Jordan\n",
          "name": "stdout"
        }
      ]
    },
    {
      "metadata": {
        "trusted": true
      },
      "cell_type": "code",
      "source": "",
      "execution_count": null,
      "outputs": []
    }
  ],
  "metadata": {
    "kernelspec": {
      "name": "python36",
      "display_name": "Python 3.6",
      "language": "python"
    },
    "language_info": {
      "mimetype": "text/x-python",
      "nbconvert_exporter": "python",
      "name": "python",
      "pygments_lexer": "ipython3",
      "version": "3.6.6",
      "file_extension": ".py",
      "codemirror_mode": {
        "version": 3,
        "name": "ipython"
      }
    }
  },
  "nbformat": 4,
  "nbformat_minor": 1
}