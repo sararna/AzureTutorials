{
  "cells": [
    {
      "metadata": {
        "trusted": true
      },
      "cell_type": "code",
      "source": "languagehost = 'centralindia.api.cognitive.microsoft.com'",
      "execution_count": 52,
      "outputs": []
    },
    {
      "metadata": {
        "trusted": true
      },
      "cell_type": "code",
      "source": "import urllib, urllib.parse, urllib.error, urllib.request, json, http.client\nheaders = {\n    'Content-Type' : 'application/json',\n    'Ocp-Apim-Subscription-Key' : '62719e98429f4a71a60b2708715621e7',\n    'Accept' : 'application/json'\n}\nbody = {\n    'documents' : [\n        {\n           \"id\": \"1\",\n           \"text\": \"రాష్ట్రంలో వడగాడ్పులు, ఎండల తీవ్రత తగ్గడంలేదు.\"\n        } \n    ]\n}\nparams = urllib.parse.urlencode({})\n\ntry:\n    languageconnection = http.client.HTTPSConnection(languagehost)\n    languageconnection.request(\"POST\", \"/text/analytics/v2.1/languages%s\" % params, str(body).encode(\"UTF-8\"), headers)\n    languageresponse = languageconnection.getresponse()\n    languagedata = json.loads(languageresponse.read().decode(\"UTF-8\"))\n    translatorbody = str(body['documents'])\n    #print(languagedata)\n    for rowid in languagedata['documents']:\n        print('Language of document ' + rowid['id'])\n        for language in rowid['detectedLanguages']:\n            detectedlanguage = language['iso6391Name']\n            print(detectedlanguage)\n    languageconnection.close()\n\nexcept Exception as e:\n    print(e.strerror)",
      "execution_count": 76,
      "outputs": [
        {
          "output_type": "stream",
          "text": "Language of document 1\nte\n",
          "name": "stdout"
        }
      ]
    },
    {
      "metadata": {
        "trusted": true
      },
      "cell_type": "code",
      "source": "translatorkey = '298aa7f6f94e4169b36ed54cbae9a4b3'\ntranslator_url = 'api.cognitive.microsofttranslator.com'",
      "execution_count": 77,
      "outputs": []
    },
    {
      "metadata": {
        "trusted": true
      },
      "cell_type": "code",
      "source": "headers = {\n    'Ocp-Apim-Subscription-Key':translatorkey,\n    'Ocp-Apim-Subscription-Region' : 'centralindia',\n    'Content-Type':'application/json'\n}\n\nbody = translatorbody\n\nparams = urllib.parse.urlencode({\n    'api-version':'3.0',\n    'to':'en',\n    'from':detectedlanguage\n})",
      "execution_count": 78,
      "outputs": []
    },
    {
      "metadata": {
        "trusted": true
      },
      "cell_type": "code",
      "source": "try:\n    translatorconn = http.client.HTTPSConnection(translator_url)\n    translatorconn.request(\"POST\", \"/translate?%s\" % params, str(body).encode(\"UTF-8\"), headers)\n    translatorresponse = translatorconn.getresponse()\n    translatorjson = translatorresponse.read().decode('UTF-8')\n    translatordata = json.loads(translatorjson)\n    print(translatordata)\n    translatorconn.close()\nexcept Exception as ex:\n    print(ex)",
      "execution_count": 79,
      "outputs": [
        {
          "output_type": "stream",
          "text": "[{'translations': [{'text': 'The intensity of hail and sun is not decreasing in the state.', 'to': 'en'}]}]\n",
          "name": "stdout"
        }
      ]
    },
    {
      "metadata": {
        "trusted": true
      },
      "cell_type": "code",
      "source": "",
      "execution_count": null,
      "outputs": []
    }
  ],
  "metadata": {
    "kernelspec": {
      "name": "python36",
      "display_name": "Python 3.6",
      "language": "python"
    },
    "language_info": {
      "mimetype": "text/x-python",
      "nbconvert_exporter": "python",
      "name": "python",
      "pygments_lexer": "ipython3",
      "version": "3.6.6",
      "file_extension": ".py",
      "codemirror_mode": {
        "version": 3,
        "name": "ipython"
      }
    }
  },
  "nbformat": 4,
  "nbformat_minor": 2
}