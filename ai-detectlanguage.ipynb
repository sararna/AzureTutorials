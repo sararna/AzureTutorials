{
  "cells": [
    {
      "metadata": {
        "trusted": true
      },
      "cell_type": "code",
      "source": "languagehost = 'centralindia.api.cognitive.microsoft.com'\nlanguagekey = '62719e98429f4a71a60b2708715621e7'",
      "execution_count": 2,
      "outputs": []
    },
    {
      "metadata": {
        "trusted": true
      },
      "cell_type": "code",
      "source": "import urllib.parse, http.client, urllib.request, json, urllib.error\nheaders = {\n    'Content-Type' : 'application/json',\n    'Ocp-Apim-Subscription-Key' : languagekey,\n    'Accept' : 'application/json'\n}\nbody = {\n    'documents' : [\n        {\n            \"id\": \"1\",\n            \"text\": \"I've travelled to Minneapolis\"\n        },\n        {\n           \"id\": \"2\",\n           \"text\": \"madrid es mi ciudad favorita\"\n        } \n    ]\n}\nparams = urllib.parse.urlencode({})\n\ntry:\n    languageconnection = http.client.HTTPSConnection(languagehost)\n    languageconnection.request(\"POST\", \"/text/analytics/v2.1/languages%s\" % params, str(body), headers)\n    languageresponse = languageconnection.getresponse()\n    languagedata = json.loads(languageresponse.read().decode(\"UTF-8\"))\n    print(languagedata)\n    for rowid in languagedata['documents']:\n        print('Language of document ' + rowid['id'])\n        for language in rowid['detectedLanguages']:\n            print(language['name'])\n    languageconnection.close()\n\nexcept Exception as e:\n    print(e.strerror)",
      "execution_count": 10,
      "outputs": [
        {
          "output_type": "stream",
          "text": "{'documents': [{'id': '1', 'detectedLanguages': [{'name': 'English', 'iso6391Name': 'en', 'score': 1.0}]}, {'id': '2', 'detectedLanguages': [{'name': 'Spanish', 'iso6391Name': 'es', 'score': 1.0}]}], 'errors': []}\nLanguage of document 1\nEnglish\nLanguage of document 2\nSpanish\n",
          "name": "stdout"
        }
      ]
    },
    {
      "metadata": {
        "trusted": true
      },
      "cell_type": "code",
      "source": "",
      "execution_count": null,
      "outputs": []
    }
  ],
  "metadata": {
    "kernelspec": {
      "name": "python36",
      "display_name": "Python 3.6",
      "language": "python"
    },
    "language_info": {
      "mimetype": "text/x-python",
      "nbconvert_exporter": "python",
      "name": "python",
      "pygments_lexer": "ipython3",
      "version": "3.6.6",
      "file_extension": ".py",
      "codemirror_mode": {
        "version": 3,
        "name": "ipython"
      }
    }
  },
  "nbformat": 4,
  "nbformat_minor": 2
}