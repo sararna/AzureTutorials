{
  "cells": [
    {
      "metadata": {
        "trusted": true
      },
      "cell_type": "code",
      "source": "keyphrasehost = 'centralindia.api.cognitive.microsoft.com'\nkeyphrasekey = '62719e98429f4a71a60b2708715621e7'",
      "execution_count": 1,
      "outputs": []
    },
    {
      "metadata": {
        "trusted": true
      },
      "cell_type": "code",
      "source": "import urllib.parse, http.client, urllib.request, json, urllib.error\nheaders = {\n    'Content-Type' : 'application/json',\n    'Ocp-Apim-Subscription-Key' : keyphrasekey,\n    'Accept' : 'application/json'\n}\nbody = {\n    'documents' : [\n        {\n            'language' : 'en',\n            'id' : '1',\n            'text' : 'Coronavirus is a deadly virus'\n        },\n        {\n            'language' : 'en',\n            'id' : '2',\n            'text' : 'Most AI examples from chess playing computers to self driving cars rely on deep learning and natural language processing.'\n        } \n    ]\n}\nparams = urllib.parse.urlencode({})\n\ntry:\n    keyphraseconnection = http.client.HTTPSConnection(keyphrasehost)\n    keyphraseconnection.request(\"POST\", \"/text/analytics/v2.1/keyPhrases%s\" % params, str(body), headers)\n    keyphraseresponse = keyphraseconnection.getresponse()\n    keyphrasedata = json.loads(keyphraseresponse.read().decode(\"UTF-8\"))\n    print(keyphrasedata)\n    for result in keyphrasedata['documents']:\n        print('The key phrase of the document' + result['id'])\n        for keyphrase in result['keyPhrases']:\n            print(keyphrase)\n        print('.................................')\n    keyphraseconnection.close()\n\nexcept Exception as e:\n    print(e.strerror)",
      "execution_count": 2,
      "outputs": [
        {
          "output_type": "stream",
          "text": "{'documents': [{'id': '1', 'keyPhrases': ['Coronavirus', 'deadly virus']}, {'id': '2', 'keyPhrases': ['deep learning', 'self driving cars', 'chess', 'computers', 'natural language processing', 'AI examples']}], 'errors': []}\nThe key phrase of the document1\nCoronavirus\ndeadly virus\n.................................\nThe key phrase of the document2\ndeep learning\nself driving cars\nchess\ncomputers\nnatural language processing\nAI examples\n.................................\n",
          "name": "stdout"
        }
      ]
    },
    {
      "metadata": {
        "trusted": true
      },
      "cell_type": "code",
      "source": "",
      "execution_count": null,
      "outputs": []
    }
  ],
  "metadata": {
    "kernelspec": {
      "name": "python36",
      "display_name": "Python 3.6",
      "language": "python"
    },
    "language_info": {
      "mimetype": "text/x-python",
      "nbconvert_exporter": "python",
      "name": "python",
      "pygments_lexer": "ipython3",
      "version": "3.6.6",
      "file_extension": ".py",
      "codemirror_mode": {
        "version": 3,
        "name": "ipython"
      }
    }
  },
  "nbformat": 4,
  "nbformat_minor": 2
}